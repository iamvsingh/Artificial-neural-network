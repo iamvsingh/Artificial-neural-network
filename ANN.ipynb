{
 "cells": [
  {
   "cell_type": "code",
   "execution_count": 1,
   "metadata": {},
   "outputs": [
    {
     "name": "stderr",
     "output_type": "stream",
     "text": [
      "Using TensorFlow backend.\n"
     ]
    }
   ],
   "source": [
    "import keras"
   ]
  },
  {
   "cell_type": "code",
   "execution_count": 35,
   "metadata": {},
   "outputs": [],
   "source": [
    "import pandas as pd"
   ]
  },
  {
   "cell_type": "code",
   "execution_count": 36,
   "metadata": {},
   "outputs": [],
   "source": [
    "data=pd.read_csv(\"Churn_Modelling.csv\")"
   ]
  },
  {
   "cell_type": "code",
   "execution_count": 37,
   "metadata": {},
   "outputs": [
    {
     "data": {
      "text/plain": [
       "RowNumber          0\n",
       "CustomerId         0\n",
       "Surname            0\n",
       "CreditScore        0\n",
       "Geography          0\n",
       "Gender             0\n",
       "Age                0\n",
       "Tenure             0\n",
       "Balance            0\n",
       "NumOfProducts      0\n",
       "HasCrCard          0\n",
       "IsActiveMember     0\n",
       "EstimatedSalary    0\n",
       "Exited             0\n",
       "dtype: int64"
      ]
     },
     "execution_count": 37,
     "metadata": {},
     "output_type": "execute_result"
    }
   ],
   "source": [
    "data.isnull().sum()"
   ]
  },
  {
   "cell_type": "code",
   "execution_count": 39,
   "metadata": {},
   "outputs": [
    {
     "data": {
      "text/plain": [
       "(10000, 14)"
      ]
     },
     "execution_count": 39,
     "metadata": {},
     "output_type": "execute_result"
    }
   ],
   "source": [
    "data.shape"
   ]
  },
  {
   "cell_type": "code",
   "execution_count": 40,
   "metadata": {},
   "outputs": [],
   "source": [
    "x=data.iloc[:,3:13].values\n",
    "y=data.iloc[:,13].values\n"
   ]
  },
  {
   "cell_type": "code",
   "execution_count": 41,
   "metadata": {},
   "outputs": [],
   "source": [
    "from sklearn.preprocessing import LabelEncoder,OneHotEncoder"
   ]
  },
  {
   "cell_type": "code",
   "execution_count": 42,
   "metadata": {},
   "outputs": [],
   "source": [
    "le_x_1=LabelEncoder()"
   ]
  },
  {
   "cell_type": "code",
   "execution_count": 43,
   "metadata": {},
   "outputs": [],
   "source": [
    "x[:,1]=le_x_1.fit_transform(x[:,1])\n"
   ]
  },
  {
   "cell_type": "code",
   "execution_count": 44,
   "metadata": {},
   "outputs": [],
   "source": [
    "le_x_2=LabelEncoder()"
   ]
  },
  {
   "cell_type": "code",
   "execution_count": 45,
   "metadata": {},
   "outputs": [],
   "source": [
    "x[:,2]=le_x_2.fit_transform(x[:,2])\n"
   ]
  },
  {
   "cell_type": "code",
   "execution_count": 46,
   "metadata": {},
   "outputs": [],
   "source": [
    "onehotencoder=OneHotEncoder(categorical_features=[1])"
   ]
  },
  {
   "cell_type": "code",
   "execution_count": 47,
   "metadata": {},
   "outputs": [
    {
     "name": "stderr",
     "output_type": "stream",
     "text": [
      "C:\\Users\\PREDATOR\\Anaconda3\\envs\\tensorflow_env\\lib\\site-packages\\sklearn\\preprocessing\\_encoders.py:415: FutureWarning: The handling of integer data will change in version 0.22. Currently, the categories are determined based on the range [0, max(values)], while in the future they will be determined based on the unique values.\n",
      "If you want the future behaviour and silence this warning, you can specify \"categories='auto'\".\n",
      "In case you used a LabelEncoder before this OneHotEncoder to convert the categories to integers, then you can now use the OneHotEncoder directly.\n",
      "  warnings.warn(msg, FutureWarning)\n",
      "C:\\Users\\PREDATOR\\Anaconda3\\envs\\tensorflow_env\\lib\\site-packages\\sklearn\\preprocessing\\_encoders.py:451: DeprecationWarning: The 'categorical_features' keyword is deprecated in version 0.20 and will be removed in 0.22. You can use the ColumnTransformer instead.\n",
      "  \"use the ColumnTransformer instead.\", DeprecationWarning)\n"
     ]
    }
   ],
   "source": [
    "x=onehotencoder.fit_transform(x).toarray()"
   ]
  },
  {
   "cell_type": "code",
   "execution_count": 48,
   "metadata": {},
   "outputs": [
    {
     "data": {
      "text/plain": [
       "(10000, 11)"
      ]
     },
     "execution_count": 48,
     "metadata": {},
     "output_type": "execute_result"
    }
   ],
   "source": [
    "x=x[:,1:]\n",
    "x.shape"
   ]
  },
  {
   "cell_type": "code",
   "execution_count": 49,
   "metadata": {},
   "outputs": [],
   "source": [
    "from keras.models import Sequential"
   ]
  },
  {
   "cell_type": "code",
   "execution_count": 17,
   "metadata": {},
   "outputs": [],
   "source": [
    "from keras.layers import Dense"
   ]
  },
  {
   "cell_type": "code",
   "execution_count": 50,
   "metadata": {},
   "outputs": [],
   "source": [
    "from sklearn.preprocessing import StandardScaler"
   ]
  },
  {
   "cell_type": "code",
   "execution_count": 51,
   "metadata": {},
   "outputs": [],
   "source": [
    "sc=StandardScaler()"
   ]
  },
  {
   "cell_type": "code",
   "execution_count": 52,
   "metadata": {},
   "outputs": [],
   "source": [
    "from sklearn.model_selection import train_test_split"
   ]
  },
  {
   "cell_type": "code",
   "execution_count": 53,
   "metadata": {},
   "outputs": [
    {
     "data": {
      "text/plain": [
       "array([[0.0000000e+00, 1.0000000e+00, 6.6700000e+02, ..., 1.0000000e+00,\n",
       "        0.0000000e+00, 1.6383064e+05],\n",
       "       [1.0000000e+00, 0.0000000e+00, 4.2700000e+02, ..., 1.0000000e+00,\n",
       "        1.0000000e+00, 5.7098000e+04],\n",
       "       [0.0000000e+00, 0.0000000e+00, 5.3500000e+02, ..., 1.0000000e+00,\n",
       "        0.0000000e+00, 1.8563076e+05],\n",
       "       ...,\n",
       "       [0.0000000e+00, 0.0000000e+00, 7.3800000e+02, ..., 1.0000000e+00,\n",
       "        0.0000000e+00, 1.8142987e+05],\n",
       "       [0.0000000e+00, 1.0000000e+00, 5.9000000e+02, ..., 1.0000000e+00,\n",
       "        1.0000000e+00, 1.4875016e+05],\n",
       "       [1.0000000e+00, 0.0000000e+00, 6.2300000e+02, ..., 1.0000000e+00,\n",
       "        0.0000000e+00, 1.1885526e+05]])"
      ]
     },
     "execution_count": 53,
     "metadata": {},
     "output_type": "execute_result"
    }
   ],
   "source": [
    "X_train, X_test, y_train, y_test = train_test_split(x, y, test_size=0.2, random_state=0)\n",
    "X_train"
   ]
  },
  {
   "cell_type": "code",
   "execution_count": 54,
   "metadata": {},
   "outputs": [
    {
     "name": "stdout",
     "output_type": "stream",
     "text": [
      "[[-0.5698444   1.74309049  0.16958176 ...  0.64259497 -1.03227043\n",
      "   1.10643166]\n",
      " [ 1.75486502 -0.57369368 -2.30455945 ...  0.64259497  0.9687384\n",
      "  -0.74866447]\n",
      " [-0.5698444  -0.57369368 -1.19119591 ...  0.64259497 -1.03227043\n",
      "   1.48533467]\n",
      " ...\n",
      " [-0.5698444  -0.57369368  0.9015152  ...  0.64259497 -1.03227043\n",
      "   1.41231994]\n",
      " [-0.5698444   1.74309049 -0.62420521 ...  0.64259497  0.9687384\n",
      "   0.84432121]\n",
      " [ 1.75486502 -0.57369368 -0.28401079 ...  0.64259497 -1.03227043\n",
      "   0.32472465]]\n"
     ]
    }
   ],
   "source": [
    "X_train=sc.fit_transform(X_train)\n",
    "X_test=sc.transform(X_test)\n",
    "print(X_train)"
   ]
  },
  {
   "cell_type": "code",
   "execution_count": 124,
   "metadata": {},
   "outputs": [],
   "source": [
    "classifier=Sequential()"
   ]
  },
  {
   "cell_type": "code",
   "execution_count": 125,
   "metadata": {},
   "outputs": [
    {
     "name": "stderr",
     "output_type": "stream",
     "text": [
      "C:\\Users\\PREDATOR\\Anaconda3\\envs\\tensorflow_env\\lib\\site-packages\\ipykernel_launcher.py:1: UserWarning: Update your `Dense` call to the Keras 2 API: `Dense(activation=\"relu\", input_dim=11, units=6, kernel_initializer=\"uniform\")`\n",
      "  \"\"\"Entry point for launching an IPython kernel.\n",
      "C:\\Users\\PREDATOR\\Anaconda3\\envs\\tensorflow_env\\lib\\site-packages\\ipykernel_launcher.py:2: UserWarning: Update your `Dense` call to the Keras 2 API: `Dense(activation=\"relu\", units=6, kernel_initializer=\"uniform\")`\n",
      "  \n",
      "C:\\Users\\PREDATOR\\Anaconda3\\envs\\tensorflow_env\\lib\\site-packages\\ipykernel_launcher.py:3: UserWarning: Update your `Dense` call to the Keras 2 API: `Dense(activation=\"sigmoid\", units=1, kernel_initializer=\"uniform\")`\n",
      "  This is separate from the ipykernel package so we can avoid doing imports until\n"
     ]
    }
   ],
   "source": [
    "classifier.add(Dense(output_dim=6,init='uniform',activation='relu',input_dim=11))\n",
    "classifier.add(Dense(output_dim=6,init='uniform',activation='relu'))\n",
    "classifier.add(Dense(output_dim=1,init='uniform',activation='sigmoid'))"
   ]
  },
  {
   "cell_type": "code",
   "execution_count": 126,
   "metadata": {},
   "outputs": [],
   "source": [
    "classifier.compile(optimizer='adam',loss='binary_crossentropy',metrics=['accuracy'])"
   ]
  },
  {
   "cell_type": "code",
   "execution_count": 127,
   "metadata": {},
   "outputs": [
    {
     "name": "stdout",
     "output_type": "stream",
     "text": [
      "WARNING:tensorflow:From C:\\Users\\PREDATOR\\Anaconda3\\envs\\tensorflow_env\\lib\\site-packages\\tensorflow\\python\\ops\\math_ops.py:3066: to_int32 (from tensorflow.python.ops.math_ops) is deprecated and will be removed in a future version.\n",
      "Instructions for updating:\n",
      "Use tf.cast instead.\n"
     ]
    },
    {
     "name": "stderr",
     "output_type": "stream",
     "text": [
      "C:\\Users\\PREDATOR\\Anaconda3\\envs\\tensorflow_env\\lib\\site-packages\\ipykernel_launcher.py:1: UserWarning: The `nb_epoch` argument in `fit` has been renamed `epochs`.\n",
      "  \"\"\"Entry point for launching an IPython kernel.\n"
     ]
    },
    {
     "name": "stdout",
     "output_type": "stream",
     "text": [
      "Epoch 1/100\n",
      "8000/8000 [==============================] - 1s 153us/step - loss: 0.4923 - acc: 0.7958\n",
      "Epoch 2/100\n",
      "8000/8000 [==============================] - 1s 70us/step - loss: 0.4080 - acc: 0.8110\n",
      "Epoch 3/100\n",
      "8000/8000 [==============================] - 1s 69us/step - loss: 0.3788 - acc: 0.8338\n",
      "Epoch 4/100\n",
      "8000/8000 [==============================] - 1s 70us/step - loss: 0.3608 - acc: 0.8543\n",
      "Epoch 5/100\n",
      "8000/8000 [==============================] - 1s 69us/step - loss: 0.3522 - acc: 0.8570\n",
      "Epoch 6/100\n",
      "8000/8000 [==============================] - 1s 70us/step - loss: 0.3488 - acc: 0.8590\n",
      "Epoch 7/100\n",
      "8000/8000 [==============================] - 1s 71us/step - loss: 0.3464 - acc: 0.8579\n",
      "Epoch 8/100\n",
      "8000/8000 [==============================] - 1s 71us/step - loss: 0.3457 - acc: 0.8589\n",
      "Epoch 9/100\n",
      "8000/8000 [==============================] - 1s 69us/step - loss: 0.3446 - acc: 0.8575\n",
      "Epoch 10/100\n",
      "8000/8000 [==============================] - 1s 71us/step - loss: 0.3442 - acc: 0.8590\n",
      "Epoch 11/100\n",
      "8000/8000 [==============================] - 1s 70us/step - loss: 0.3433 - acc: 0.8584\n",
      "Epoch 12/100\n",
      "8000/8000 [==============================] - 1s 71us/step - loss: 0.3424 - acc: 0.8613\n",
      "Epoch 13/100\n",
      "8000/8000 [==============================] - 1s 72us/step - loss: 0.3422 - acc: 0.8605\n",
      "Epoch 14/100\n",
      "8000/8000 [==============================] - 1s 70us/step - loss: 0.3414 - acc: 0.8629\n",
      "Epoch 15/100\n",
      "8000/8000 [==============================] - 1s 72us/step - loss: 0.3412 - acc: 0.8601\n",
      "Epoch 16/100\n",
      "8000/8000 [==============================] - 1s 70us/step - loss: 0.3409 - acc: 0.8600\n",
      "Epoch 17/100\n",
      "8000/8000 [==============================] - 1s 72us/step - loss: 0.3402 - acc: 0.8614\n",
      "Epoch 18/100\n",
      "8000/8000 [==============================] - 1s 77us/step - loss: 0.3397 - acc: 0.8628\n",
      "Epoch 19/100\n",
      "8000/8000 [==============================] - 1s 86us/step - loss: 0.3395 - acc: 0.8614\n",
      "Epoch 20/100\n",
      "8000/8000 [==============================] - 1s 86us/step - loss: 0.3386 - acc: 0.8616\n",
      "Epoch 21/100\n",
      "8000/8000 [==============================] - 1s 83us/step - loss: 0.3389 - acc: 0.8599\n",
      "Epoch 22/100\n",
      "8000/8000 [==============================] - 1s 92us/step - loss: 0.3383 - acc: 0.8631\n",
      "Epoch 23/100\n",
      "8000/8000 [==============================] - 1s 72us/step - loss: 0.3381 - acc: 0.8621\n",
      "Epoch 24/100\n",
      "8000/8000 [==============================] - 1s 71us/step - loss: 0.3373 - acc: 0.8615\n",
      "Epoch 25/100\n",
      "8000/8000 [==============================] - 1s 71us/step - loss: 0.3377 - acc: 0.8646\n",
      "Epoch 26/100\n",
      "8000/8000 [==============================] - 1s 86us/step - loss: 0.3374 - acc: 0.8633\n",
      "Epoch 27/100\n",
      "8000/8000 [==============================] - 1s 82us/step - loss: 0.3371 - acc: 0.8624\n",
      "Epoch 28/100\n",
      "8000/8000 [==============================] - 1s 72us/step - loss: 0.3374 - acc: 0.8623\n",
      "Epoch 29/100\n",
      "8000/8000 [==============================] - 1s 71us/step - loss: 0.3372 - acc: 0.8621\n",
      "Epoch 30/100\n",
      "8000/8000 [==============================] - 1s 70us/step - loss: 0.3375 - acc: 0.8638\n",
      "Epoch 31/100\n",
      "8000/8000 [==============================] - 1s 71us/step - loss: 0.3367 - acc: 0.8638\n",
      "Epoch 32/100\n",
      "8000/8000 [==============================] - 1s 70us/step - loss: 0.3370 - acc: 0.8629\n",
      "Epoch 33/100\n",
      "8000/8000 [==============================] - 1s 71us/step - loss: 0.3371 - acc: 0.8631\n",
      "Epoch 34/100\n",
      "8000/8000 [==============================] - 1s 70us/step - loss: 0.3367 - acc: 0.8645\n",
      "Epoch 35/100\n",
      "8000/8000 [==============================] - 1s 75us/step - loss: 0.3370 - acc: 0.8624\n",
      "Epoch 36/100\n",
      "8000/8000 [==============================] - 1s 74us/step - loss: 0.3366 - acc: 0.8633\n",
      "Epoch 37/100\n",
      "8000/8000 [==============================] - 1s 72us/step - loss: 0.3369 - acc: 0.8635\n",
      "Epoch 38/100\n",
      "8000/8000 [==============================] - 1s 72us/step - loss: 0.3361 - acc: 0.8636\n",
      "Epoch 39/100\n",
      "8000/8000 [==============================] - 1s 70us/step - loss: 0.3365 - acc: 0.8630\n",
      "Epoch 40/100\n",
      "8000/8000 [==============================] - 1s 74us/step - loss: 0.3368 - acc: 0.8634\n",
      "Epoch 41/100\n",
      "8000/8000 [==============================] - 1s 73us/step - loss: 0.3364 - acc: 0.8645\n",
      "Epoch 42/100\n",
      "8000/8000 [==============================] - 1s 74us/step - loss: 0.3364 - acc: 0.8639: 0s - loss: 0.3427 - acc: 0.\n",
      "Epoch 43/100\n",
      "8000/8000 [==============================] - 1s 73us/step - loss: 0.3358 - acc: 0.8650\n",
      "Epoch 44/100\n",
      "8000/8000 [==============================] - 1s 74us/step - loss: 0.3355 - acc: 0.8645\n",
      "Epoch 45/100\n",
      "8000/8000 [==============================] - 1s 74us/step - loss: 0.3362 - acc: 0.8646\n",
      "Epoch 46/100\n",
      "8000/8000 [==============================] - 1s 72us/step - loss: 0.3357 - acc: 0.8633\n",
      "Epoch 47/100\n",
      "8000/8000 [==============================] - 1s 82us/step - loss: 0.3360 - acc: 0.8633\n",
      "Epoch 48/100\n",
      "8000/8000 [==============================] - 1s 89us/step - loss: 0.3355 - acc: 0.8638\n",
      "Epoch 49/100\n",
      "8000/8000 [==============================] - 1s 80us/step - loss: 0.3358 - acc: 0.8624\n",
      "Epoch 50/100\n",
      "8000/8000 [==============================] - 1s 71us/step - loss: 0.3357 - acc: 0.8641\n",
      "Epoch 51/100\n",
      "8000/8000 [==============================] - 1s 79us/step - loss: 0.3353 - acc: 0.8629\n",
      "Epoch 52/100\n",
      "8000/8000 [==============================] - 1s 78us/step - loss: 0.3355 - acc: 0.8630\n",
      "Epoch 53/100\n",
      "8000/8000 [==============================] - 1s 76us/step - loss: 0.3354 - acc: 0.8641\n",
      "Epoch 54/100\n",
      "8000/8000 [==============================] - 1s 83us/step - loss: 0.3354 - acc: 0.8621\n",
      "Epoch 55/100\n",
      "8000/8000 [==============================] - 1s 71us/step - loss: 0.3347 - acc: 0.8645\n",
      "Epoch 56/100\n",
      "8000/8000 [==============================] - 1s 72us/step - loss: 0.3355 - acc: 0.8648\n",
      "Epoch 57/100\n",
      "8000/8000 [==============================] - 1s 74us/step - loss: 0.3349 - acc: 0.8646\n",
      "Epoch 58/100\n",
      "8000/8000 [==============================] - 1s 77us/step - loss: 0.3348 - acc: 0.8640\n",
      "Epoch 59/100\n",
      "8000/8000 [==============================] - 1s 73us/step - loss: 0.3345 - acc: 0.8635\n",
      "Epoch 60/100\n",
      "8000/8000 [==============================] - 1s 70us/step - loss: 0.3353 - acc: 0.8641\n",
      "Epoch 61/100\n",
      "8000/8000 [==============================] - 1s 71us/step - loss: 0.3353 - acc: 0.8634\n",
      "Epoch 62/100\n",
      "8000/8000 [==============================] - 1s 70us/step - loss: 0.3338 - acc: 0.8643: 0s - loss: 0.3301 - acc: 0.8\n",
      "Epoch 63/100\n",
      "8000/8000 [==============================] - 1s 72us/step - loss: 0.3351 - acc: 0.8628\n",
      "Epoch 64/100\n",
      "8000/8000 [==============================] - 1s 70us/step - loss: 0.3346 - acc: 0.8645\n",
      "Epoch 65/100\n",
      "8000/8000 [==============================] - 1s 71us/step - loss: 0.3346 - acc: 0.8635\n",
      "Epoch 66/100\n",
      "8000/8000 [==============================] - 1s 70us/step - loss: 0.3345 - acc: 0.8653\n",
      "Epoch 67/100\n",
      "8000/8000 [==============================] - 1s 74us/step - loss: 0.3349 - acc: 0.8631\n",
      "Epoch 68/100\n",
      "8000/8000 [==============================] - 1s 74us/step - loss: 0.3348 - acc: 0.8639\n",
      "Epoch 69/100\n",
      "8000/8000 [==============================] - 1s 73us/step - loss: 0.3348 - acc: 0.8634\n",
      "Epoch 70/100\n",
      "8000/8000 [==============================] - 1s 73us/step - loss: 0.3346 - acc: 0.8634\n",
      "Epoch 71/100\n",
      "8000/8000 [==============================] - 1s 70us/step - loss: 0.3349 - acc: 0.8636\n",
      "Epoch 72/100\n",
      "8000/8000 [==============================] - 1s 71us/step - loss: 0.3343 - acc: 0.8650\n",
      "Epoch 73/100\n",
      "8000/8000 [==============================] - 1s 70us/step - loss: 0.3340 - acc: 0.8633\n",
      "Epoch 74/100\n",
      "8000/8000 [==============================] - 1s 71us/step - loss: 0.3350 - acc: 0.8643\n",
      "Epoch 75/100\n",
      "8000/8000 [==============================] - 1s 71us/step - loss: 0.3339 - acc: 0.8640\n",
      "Epoch 76/100\n",
      "8000/8000 [==============================] - 1s 79us/step - loss: 0.3340 - acc: 0.8634\n",
      "Epoch 77/100\n",
      "8000/8000 [==============================] - 1s 70us/step - loss: 0.3348 - acc: 0.8638\n",
      "Epoch 78/100\n",
      "8000/8000 [==============================] - 1s 71us/step - loss: 0.3341 - acc: 0.8643\n",
      "Epoch 79/100\n",
      "8000/8000 [==============================] - 1s 71us/step - loss: 0.3348 - acc: 0.8634\n",
      "Epoch 80/100\n",
      "8000/8000 [==============================] - 1s 71us/step - loss: 0.3344 - acc: 0.8653\n",
      "Epoch 81/100\n",
      "8000/8000 [==============================] - 1s 71us/step - loss: 0.3344 - acc: 0.8638\n",
      "Epoch 82/100\n",
      "8000/8000 [==============================] - 1s 69us/step - loss: 0.3339 - acc: 0.8655\n",
      "Epoch 83/100\n",
      "8000/8000 [==============================] - 1s 69us/step - loss: 0.3344 - acc: 0.8635\n",
      "Epoch 84/100\n",
      "8000/8000 [==============================] - 1s 70us/step - loss: 0.3338 - acc: 0.8638: 0s - loss: 0.3340 - acc: 0.863\n",
      "Epoch 85/100\n",
      "8000/8000 [==============================] - 1s 84us/step - loss: 0.3336 - acc: 0.8641\n",
      "Epoch 86/100\n",
      "8000/8000 [==============================] - 1s 86us/step - loss: 0.3342 - acc: 0.8633\n",
      "Epoch 87/100\n",
      "8000/8000 [==============================] - 1s 75us/step - loss: 0.3336 - acc: 0.8646\n",
      "Epoch 88/100\n",
      "8000/8000 [==============================] - 1s 78us/step - loss: 0.3335 - acc: 0.8648\n",
      "Epoch 89/100\n",
      "8000/8000 [==============================] - 1s 82us/step - loss: 0.3336 - acc: 0.8644\n",
      "Epoch 90/100\n",
      "8000/8000 [==============================] - 1s 85us/step - loss: 0.3337 - acc: 0.8635: 0s - loss: 0.3359 - acc - ETA: 0s - loss: 0.3285 - acc: 0.\n",
      "Epoch 91/100\n",
      "8000/8000 [==============================] - 1s 70us/step - loss: 0.3342 - acc: 0.8624\n",
      "Epoch 92/100\n",
      "8000/8000 [==============================] - 1s 72us/step - loss: 0.3338 - acc: 0.8650\n",
      "Epoch 93/100\n",
      "8000/8000 [==============================] - 1s 71us/step - loss: 0.3341 - acc: 0.8650\n",
      "Epoch 94/100\n",
      "8000/8000 [==============================] - 1s 72us/step - loss: 0.3335 - acc: 0.8638\n",
      "Epoch 95/100\n",
      "8000/8000 [==============================] - 1s 73us/step - loss: 0.3343 - acc: 0.8619\n",
      "Epoch 96/100\n",
      "8000/8000 [==============================] - 1s 71us/step - loss: 0.3343 - acc: 0.8645\n",
      "Epoch 97/100\n",
      "8000/8000 [==============================] - 1s 71us/step - loss: 0.3342 - acc: 0.8651\n",
      "Epoch 98/100\n",
      "8000/8000 [==============================] - 1s 70us/step - loss: 0.3341 - acc: 0.8646\n",
      "Epoch 99/100\n",
      "8000/8000 [==============================] - 1s 72us/step - loss: 0.3336 - acc: 0.8640\n",
      "Epoch 100/100\n",
      "8000/8000 [==============================] - 1s 70us/step - loss: 0.3332 - acc: 0.8650\n"
     ]
    },
    {
     "data": {
      "text/plain": [
       "<keras.callbacks.History at 0x2ea604c73c8>"
      ]
     },
     "execution_count": 127,
     "metadata": {},
     "output_type": "execute_result"
    }
   ],
   "source": [
    "classifier.fit(X_train,y_train,batch_size=11,nb_epoch=100)"
   ]
  },
  {
   "cell_type": "code",
   "execution_count": 128,
   "metadata": {},
   "outputs": [],
   "source": [
    "y_pred=classifier.predict(X_test)"
   ]
  },
  {
   "cell_type": "code",
   "execution_count": 129,
   "metadata": {},
   "outputs": [],
   "source": [
    "from sklearn.metrics import confusion_matrix"
   ]
  },
  {
   "cell_type": "code",
   "execution_count": 131,
   "metadata": {},
   "outputs": [],
   "source": [
    "y_pred=(y_pred>0.5)"
   ]
  },
  {
   "cell_type": "code",
   "execution_count": 132,
   "metadata": {},
   "outputs": [],
   "source": [
    "cm=confusion_matrix(y_test,y_pred)"
   ]
  },
  {
   "cell_type": "code",
   "execution_count": 133,
   "metadata": {},
   "outputs": [
    {
     "name": "stdout",
     "output_type": "stream",
     "text": [
      "[[1517   78]\n",
      " [ 202  203]]\n"
     ]
    }
   ],
   "source": [
    "print(cm)"
   ]
  },
  {
   "cell_type": "code",
   "execution_count": 135,
   "metadata": {},
   "outputs": [
    {
     "data": {
      "text/plain": [
       "0.86"
      ]
     },
     "execution_count": 135,
     "metadata": {},
     "output_type": "execute_result"
    }
   ],
   "source": [
    "(1517+203)/2000"
   ]
  },
  {
   "cell_type": "code",
   "execution_count": 137,
   "metadata": {},
   "outputs": [],
   "source": [
    "import numpy as np"
   ]
  },
  {
   "cell_type": "code",
   "execution_count": 138,
   "metadata": {},
   "outputs": [
    {
     "name": "stdout",
     "output_type": "stream",
     "text": [
      "[[False]]\n"
     ]
    }
   ],
   "source": [
    "new_pred=classifier.predict(sc.transform(np.array([[0,0,600,1,40,3,60000,2,1,1,50000]])))\n",
    "result=(new_pred>0.5)\n",
    "print(result)"
   ]
  },
  {
   "cell_type": "markdown",
   "metadata": {},
   "source": [
    "# Evaluating of ANN"
   ]
  },
  {
   "cell_type": "code",
   "execution_count": 140,
   "metadata": {},
   "outputs": [],
   "source": [
    "from keras.wrappers.scikit_learn import KerasClassifier"
   ]
  },
  {
   "cell_type": "code",
   "execution_count": 31,
   "metadata": {},
   "outputs": [],
   "source": [
    "from keras.wrappers.scikit_learn import KerasClassifier\n",
    "from sklearn.model_selection import cross_val_score\n",
    "def build_classifier():\n",
    "    classifier=Sequential()\n",
    "    classifier.add(Dense(input_dim=11,activation='relu',output_dim=6,init='uniform'))\n",
    "    classifier.add(Dense(activation='relu',output_dim=6,init='uniform'))\n",
    "    classifier.add(Dense(activation='sigmoid',output_dim=1,init='uniform'))\n",
    "    classifier.compile(optimizer='adam',loss='binary_crossentropy',metrics=['accuracy'])\n",
    "    return classifier\n",
    "classifier=KerasClassifier(build_fn=build_classifier,batch_size=10,nb_epoch=100)\n",
    "accuracies=cross_val_score(estimator=classifier,X=X_train,y=y_train,cv=10,n_jobs=-1)"
   ]
  },
  {
   "cell_type": "code",
   "execution_count": 32,
   "metadata": {},
   "outputs": [
    {
     "data": {
      "text/plain": [
       "0.7997499964758754"
      ]
     },
     "execution_count": 32,
     "metadata": {},
     "output_type": "execute_result"
    }
   ],
   "source": [
    "accuracies.mean()"
   ]
  },
  {
   "cell_type": "markdown",
   "metadata": {},
   "source": [
    "# Parameter tunning"
   ]
  },
  {
   "cell_type": "code",
   "execution_count": 34,
   "metadata": {},
   "outputs": [],
   "source": [
    "from sklearn.model_selection import GridSearchCV\n",
    "from keras.wrappers.scikit_learn import KerasClassifier"
   ]
  },
  {
   "cell_type": "code",
   "execution_count": 64,
   "metadata": {},
   "outputs": [
    {
     "name": "stderr",
     "output_type": "stream",
     "text": [
      "C:\\Users\\PREDATOR\\Anaconda3\\envs\\tensorflow_env\\lib\\site-packages\\ipykernel_launcher.py:5: UserWarning: Update your `Dense` call to the Keras 2 API: `Dense(activation=\"relu\", input_dim=11, units=6, kernel_initializer=\"uniform\")`\n",
      "  \"\"\"\n",
      "C:\\Users\\PREDATOR\\Anaconda3\\envs\\tensorflow_env\\lib\\site-packages\\ipykernel_launcher.py:6: UserWarning: Update your `Dense` call to the Keras 2 API: `Dense(activation=\"relu\", units=6, kernel_initializer=\"uniform\")`\n",
      "  \n",
      "C:\\Users\\PREDATOR\\Anaconda3\\envs\\tensorflow_env\\lib\\site-packages\\ipykernel_launcher.py:7: UserWarning: Update your `Dense` call to the Keras 2 API: `Dense(activation=\"sigmoid\", units=1, kernel_initializer=\"uniform\")`\n",
      "  import sys\n"
     ]
    },
    {
     "name": "stdout",
     "output_type": "stream",
     "text": [
      "Epoch 1/1\n",
      "7200/7200 [==============================] - 5s 627us/step - loss: 0.6612 - acc: 0.7932\n",
      "Epoch 1/1\n",
      "7200/7200 [==============================] - 5s 661us/step - loss: 0.6213 - acc: 0.7937\n",
      "Epoch 1/1\n",
      "7200/7200 [==============================] - 5s 662us/step - loss: 0.5885 - acc: 0.7937\n",
      "Epoch 1/1\n",
      "7200/7200 [==============================] - 5s 681us/step - loss: 0.6118 - acc: 0.7957\n",
      "Epoch 1/1\n",
      "7200/7200 [==============================] - 5s 681us/step - loss: 0.6037 - acc: 0.7935\n",
      "Epoch 1/1\n",
      "7200/7200 [==============================] - 5s 698us/step - loss: 0.6238 - acc: 0.7918\n",
      "Epoch 1/1\n",
      "7200/7200 [==============================] - 5s 713us/step - loss: 0.6132 - acc: 0.7940\n",
      "Epoch 1/1\n",
      "7200/7200 [==============================] - 5s 717us/step - loss: 0.6080 - acc: 0.7954\n",
      "Epoch 1/1\n",
      "7200/7200 [==============================] - 5s 692us/step - loss: 0.5887 - acc: 0.7953\n",
      "Epoch 1/1\n",
      "7200/7200 [==============================] - 5s 708us/step - loss: 0.6256 - acc: 0.7946\n",
      "Epoch 1/1\n",
      "7200/7200 [==============================] - 5s 720us/step - loss: 0.5965 - acc: 0.7939\n",
      "Epoch 1/1\n",
      "7200/7200 [==============================] - 6s 802us/step - loss: 0.5669 - acc: 0.7967\n",
      "Epoch 1/1\n",
      "7200/7200 [==============================] - 5s 738us/step - loss: 0.5937 - acc: 0.7944\n",
      "Epoch 1/1\n",
      "7200/7200 [==============================] - 6s 768us/step - loss: 0.6079 - acc: 0.7962\n",
      "Epoch 1/1\n",
      "7200/7200 [==============================] - 6s 800us/step - loss: 0.6027 - acc: 0.7915\n",
      "Epoch 1/1\n",
      "7200/7200 [==============================] - 6s 812us/step - loss: 0.5951 - acc: 0.7922\n",
      "Epoch 1/1\n",
      "7200/7200 [==============================] - 6s 856us/step - loss: 0.6012 - acc: 0.7956\n",
      "Epoch 1/1\n",
      "7200/7200 [==============================] - 6s 791us/step - loss: 0.5860 - acc: 0.7949\n",
      "Epoch 1/1\n",
      "7200/7200 [==============================] - 6s 814us/step - loss: 0.5831 - acc: 0.7954\n",
      "Epoch 1/1\n",
      "7200/7200 [==============================] - 6s 826us/step - loss: 0.5846 - acc: 0.7958\n",
      "Epoch 1/1\n",
      "7200/7200 [==============================] - 6s 786us/step - loss: 0.6009 - acc: 0.7954\n",
      "Epoch 1/1\n",
      "7200/7200 [==============================] - 6s 778us/step - loss: 0.6109 - acc: 0.7961\n",
      "Epoch 1/1\n",
      "7200/7200 [==============================] - 6s 790us/step - loss: 0.6132 - acc: 0.7942\n",
      "Epoch 1/1\n",
      "7200/7200 [==============================] - 6s 793us/step - loss: 0.6444 - acc: 0.7954\n",
      "Epoch 1/1\n",
      "7200/7200 [==============================] - 6s 803us/step - loss: 0.6191 - acc: 0.7914\n",
      "Epoch 1/1\n",
      "7200/7200 [==============================] - 6s 820us/step - loss: 0.6100 - acc: 0.7928\n",
      "Epoch 1/1\n",
      "7200/7200 [==============================] - 6s 819us/step - loss: 0.5909 - acc: 0.7969\n",
      "Epoch 1/1\n",
      "7200/7200 [==============================] - 6s 825us/step - loss: 0.5958 - acc: 0.7962\n",
      "Epoch 1/1\n",
      "7200/7200 [==============================] - 6s 831us/step - loss: 0.6165 - acc: 0.7943\n",
      "Epoch 1/1\n",
      "7200/7200 [==============================] - 6s 838us/step - loss: 0.5970 - acc: 0.7942\n",
      "Epoch 1/1\n",
      "7200/7200 [==============================] - 6s 876us/step - loss: 0.5918 - acc: 0.7965\n",
      "Epoch 1/1\n",
      "7200/7200 [==============================] - 6s 889us/step - loss: 0.5933 - acc: 0.7967\n",
      "Epoch 1/1\n",
      "7200/7200 [==============================] - 6s 901us/step - loss: 0.5770 - acc: 0.7953\n",
      "Epoch 1/1\n",
      "7200/7200 [==============================] - 6s 898us/step - loss: 0.5668 - acc: 0.7971\n",
      "Epoch 1/1\n",
      "7200/7200 [==============================] - 7s 915us/step - loss: 0.6113 - acc: 0.7911\n",
      "Epoch 1/1\n",
      "7200/7200 [==============================] - 7s 912us/step - loss: 0.5909 - acc: 0.7915\n",
      "Epoch 1/1\n",
      "7200/7200 [==============================] - 7s 931us/step - loss: 0.6083 - acc: 0.7933\n",
      "Epoch 1/1\n",
      "7200/7200 [==============================] - 7s 928us/step - loss: 0.6067 - acc: 0.7947\n",
      "Epoch 1/1\n",
      "7200/7200 [==============================] - 7s 946us/step - loss: 0.6215 - acc: 0.7932\n",
      "Epoch 1/1\n",
      "7200/7200 [==============================] - 7s 951us/step - loss: 0.6212 - acc: 0.7944\n",
      "Epoch 1/1\n",
      "7200/7200 [==============================] - 7s 980us/step - loss: 0.5651 - acc: 0.7974\n",
      "Epoch 1/1\n",
      "7200/7200 [==============================] - 7s 991us/step - loss: 0.6036 - acc: 0.7951\n",
      "Epoch 1/1\n",
      "7200/7200 [==============================] - 7s 1ms/step - loss: 0.5770 - acc: 0.7949\n",
      "Epoch 1/1\n",
      "7200/7200 [==============================] - 7s 1ms/step - loss: 0.5871 - acc: 0.7951\n",
      "Epoch 1/1\n",
      "7200/7200 [==============================] - 7s 1ms/step - loss: 0.5797 - acc: 0.7936\n",
      "Epoch 1/1\n",
      "7200/7200 [==============================] - 7s 1ms/step - loss: 0.5680 - acc: 0.7943\n",
      "Epoch 1/1\n",
      "7200/7200 [==============================] - 7s 1ms/step - loss: 0.5836 - acc: 0.7965\n",
      "Epoch 1/1\n",
      "7200/7200 [==============================] - 8s 1ms/step - loss: 0.5961 - acc: 0.7960\n",
      "Epoch 1/1\n",
      "7200/7200 [==============================] - 8s 1ms/step - loss: 0.5767 - acc: 0.7949\n",
      "Epoch 1/1\n",
      "7200/7200 [==============================] - 8s 1ms/step - loss: 0.5763 - acc: 0.7950\n",
      "Epoch 1/1\n",
      "7200/7200 [==============================] - 8s 1ms/step - loss: 0.5442 - acc: 0.7971\n",
      "Epoch 1/1\n",
      "7200/7200 [==============================] - 8s 1ms/step - loss: 0.5657 - acc: 0.7946\n",
      "Epoch 1/1\n",
      "7200/7200 [==============================] - 8s 1ms/step - loss: 0.5844 - acc: 0.7956\n",
      "Epoch 1/1\n",
      "7200/7200 [==============================] - 8s 1ms/step - loss: 0.5741 - acc: 0.7964\n",
      "Epoch 1/1\n",
      "7200/7200 [==============================] - 8s 1ms/step - loss: 0.5860 - acc: 0.7933\n",
      "Epoch 1/1\n",
      "7200/7200 [==============================] - 8s 1ms/step - loss: 0.5466 - acc: 0.7939\n",
      "Epoch 1/1\n",
      "7200/7200 [==============================] - 8s 1ms/step - loss: 0.5608 - acc: 0.7950\n",
      "Epoch 1/1\n",
      "7200/7200 [==============================] - 9s 1ms/step - loss: 0.5545 - acc: 0.7963\n",
      "Epoch 1/1\n",
      "7200/7200 [==============================] - 9s 1ms/step - loss: 0.5725 - acc: 0.7937\n",
      "Epoch 1/1\n",
      "7200/7200 [==============================] - 10s 1ms/step - loss: 0.5719 - acc: 0.7933\n",
      "Epoch 1/1\n",
      "7200/7200 [==============================] - 9s 1ms/step - loss: 0.5738 - acc: 0.7962\n",
      "Epoch 1/1\n",
      "7200/7200 [==============================] - 9s 1ms/step - loss: 0.5866 - acc: 0.7958\n",
      "Epoch 1/1\n",
      "7200/7200 [==============================] - 9s 1ms/step - loss: 0.5582 - acc: 0.7956\n",
      "Epoch 1/1\n",
      "7200/7200 [==============================] - 9s 1ms/step - loss: 0.6532 - acc: 0.7947\n",
      "Epoch 1/1\n",
      "7200/7200 [==============================] - 9s 1ms/step - loss: 0.5724 - acc: 0.7925\n",
      "Epoch 1/1\n",
      "7200/7200 [==============================] - 9s 1ms/step - loss: 0.5654 - acc: 0.7940\n",
      "Epoch 1/1\n",
      "7200/7200 [==============================] - 9s 1ms/step - loss: 0.6006 - acc: 0.7961\n",
      "Epoch 1/1\n",
      "7200/7200 [==============================] - 9s 1ms/step - loss: 0.5609 - acc: 0.7962\n",
      "Epoch 1/1\n",
      "7200/7200 [==============================] - 9s 1ms/step - loss: 0.5650 - acc: 0.7957\n",
      "Epoch 1/1\n",
      "7200/7200 [==============================] - 10s 1ms/step - loss: 0.6281 - acc: 0.7940\n",
      "Epoch 1/1\n",
      "7200/7200 [==============================] - 10s 1ms/step - loss: 0.5489 - acc: 0.7954\n",
      "Epoch 1/1\n",
      "7200/7200 [==============================] - 9s 1ms/step - loss: 0.5762 - acc: 0.7961\n",
      "Epoch 1/1\n",
      "7200/7200 [==============================] - 9s 1ms/step - loss: 0.5528 - acc: 0.7960\n",
      "Epoch 1/1\n",
      "7200/7200 [==============================] - 9s 1ms/step - loss: 0.5714 - acc: 0.7971\n",
      "Epoch 1/1\n",
      "7200/7200 [==============================] - 9s 1ms/step - loss: 0.5786 - acc: 0.7917\n",
      "Epoch 1/1\n",
      "7200/7200 [==============================] - 10s 1ms/step - loss: 0.5809 - acc: 0.7928\n",
      "Epoch 1/1\n",
      "7200/7200 [==============================] - 10s 1ms/step - loss: 0.5560 - acc: 0.7965\n",
      "Epoch 1/1\n",
      "7200/7200 [==============================] - 10s 1ms/step - loss: 0.5778 - acc: 0.7944\n",
      "Epoch 1/1\n",
      "7200/7200 [==============================] - 10s 1ms/step - loss: 0.5783 - acc: 0.7947\n",
      "Epoch 1/1\n",
      "7200/7200 [==============================] - 10s 1ms/step - loss: 0.5637 - acc: 0.7940\n",
      "Epoch 1/1\n",
      "8000/8000 [==============================] - 11s 1ms/step - loss: 0.6148 - acc: 0.7957\n"
     ]
    }
   ],
   "source": [
    "from keras.models import Sequential\n",
    "from keras.layers import Dense\n",
    "def build_classifier(optimizer):\n",
    "    classifier=Sequential()\n",
    "    classifier.add(Dense(output_dim=6,init='uniform',activation='relu',input_dim=11))\n",
    "    classifier.add(Dense(output_dim=6,init='uniform',activation='relu'))\n",
    "    classifier.add(Dense(output_dim=1,init='uniform',activation='sigmoid'))\n",
    "    classifier.compile(optimizer=optimizer,loss='binary_crossentropy',metrics=['accuracy'])\n",
    "    return classifier\n",
    "classifier=KerasClassifier(build_fn=build_classifier)\n",
    "parameters={'batch_size':[32,25],'nb_epoch':[500,100],'optimizer':['rmsprop','adam']}\n",
    "grid_search=GridSearchCV(estimator=classifier,param_grid=parameters,scoring='accuracy',cv=10)\n",
    "grid_search=grid_search.fit(X_train,y_train)\n",
    "best_parameter=grid_search.best_params_\n",
    "best_accuracy=grid_search.best_score_"
   ]
  },
  {
   "cell_type": "code",
   "execution_count": 65,
   "metadata": {},
   "outputs": [
    {
     "data": {
      "text/plain": [
       "0.796"
      ]
     },
     "execution_count": 65,
     "metadata": {},
     "output_type": "execute_result"
    }
   ],
   "source": [
    "best_accuracy"
   ]
  },
  {
   "cell_type": "code",
   "execution_count": 66,
   "metadata": {},
   "outputs": [
    {
     "data": {
      "text/plain": [
       "{'batch_size': 32, 'nb_epoch': 500, 'optimizer': 'rmsprop'}"
      ]
     },
     "execution_count": 66,
     "metadata": {},
     "output_type": "execute_result"
    }
   ],
   "source": [
    "best_parameter"
   ]
  },
  {
   "cell_type": "code",
   "execution_count": 62,
   "metadata": {},
   "outputs": [],
   "source": [
    "#shishupal singh kashyap\n",
    "#S/O shree Gatta ram  \n",
    "#Sambhal gate Geo shala"
   ]
  },
  {
   "cell_type": "code",
   "execution_count": null,
   "metadata": {},
   "outputs": [],
   "source": []
  }
 ],
 "metadata": {
  "kernelspec": {
   "display_name": "Python 3",
   "language": "python",
   "name": "python3"
  },
  "language_info": {
   "codemirror_mode": {
    "name": "ipython",
    "version": 3
   },
   "file_extension": ".py",
   "mimetype": "text/x-python",
   "name": "python",
   "nbconvert_exporter": "python",
   "pygments_lexer": "ipython3",
   "version": "3.6.8"
  }
 },
 "nbformat": 4,
 "nbformat_minor": 2
}
